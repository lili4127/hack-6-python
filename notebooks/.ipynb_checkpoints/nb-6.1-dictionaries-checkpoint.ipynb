{
 "cells": [
  {
   "cell_type": "markdown",
   "metadata": {},
   "source": [
    "# Notebook 6.0: Python dictionaries\n",
    "\n",
    "\n",
    "## Learning objectives: \n",
    "By the end of this notebook you should be able to:\n",
    "1. Recognize the use cases for Python dictionaries.\n",
    "2. Be able to create and use Python dictionaries."
   ]
  },
  {
   "cell_type": "markdown",
   "metadata": {},
   "source": [
    "## Importing python libraries\n",
    "Here we will use a new module from the standard library, the `random` module (library and module are often used interchangeably as names for these). This provides functionality for sampling random variables."
   ]
  },
  {
   "cell_type": "code",
   "execution_count": 63,
   "metadata": {},
   "outputs": [],
   "source": [
    "import random"
   ]
  },
  {
   "cell_type": "code",
   "execution_count": 64,
   "metadata": {},
   "outputs": [
    {
     "data": {
      "text/plain": [
       "6"
      ]
     },
     "execution_count": 64,
     "metadata": {},
     "output_type": "execute_result"
    }
   ],
   "source": [
    "# example: sample a random integer between 5 and 10\n",
    "random.randint(5, 10)"
   ]
  },
  {
   "cell_type": "markdown",
   "metadata": {},
   "source": [
    "## Introduction to Python dictionaries\n",
    "\n",
    "Dictionaries are one of the most useful object types in Python. They provide a mapping between (`key`, `value`) pairs, and represent a fast and efficient way of creating look-up tables. A simple example use for a dictionary would be something like mapping names to phone numbers or addresses. In biology, you might map sample names to a measurement. Using the dictionary we could then query a `key` (e.g., a sample name) and it will return the `value` associated with that key (e.g., the measurement). \n",
    "\n",
    "While the idea of \"looking up\" the value associated with a key might sound slow, in the realm of computational operations, it turns out that under certain designs it can be one of the fastest things possible in a language. Python uses a method called \"hashing\" to store the value associated with a key. This is the same approach it uses when you create *any* variable in Python and ask to retrieve its value. For this reason, storing and retrieving information from dictionaries is actually one of the fastest and most efficient methods to use in Python. Much faster than using lists to store and retrieve data, for example. Once you master dictionaries you'll find yourself using them all the time. "
   ]
  },
  {
   "cell_type": "markdown",
   "metadata": {},
   "source": [
    "### Hashing and speed\n",
    "The Python documentation on dictionaries has an aside about `hashtables`. The details of this are fascinating, but fairly dense reading, and I would say that it is not fully necessary to understand hashtables in order to understand Python programming. Nevertheless, a cursory understanding of the concept of hashing can be useful for understanding why Python `set` and `dictionary` objects are so fast. \n",
    "\n",
    "The main concept is that they store elements as a `hashed` value for lookup. This simply means that they use the function `hash()` to convert the element to an integer. This makes it easy to compare whether two elements are the same by simply asking whether the integer is the same. \n"
   ]
  },
  {
   "cell_type": "code",
   "execution_count": 65,
   "metadata": {},
   "outputs": [
    {
     "data": {
      "text/plain": [
       "5138519437424661376"
      ]
     },
     "execution_count": 65,
     "metadata": {},
     "output_type": "execute_result"
    }
   ],
   "source": [
    "# hash converts an object to an int\n",
    "hash(\"this string here\")"
   ]
  },
  {
   "cell_type": "code",
   "execution_count": 66,
   "metadata": {},
   "outputs": [
    {
     "data": {
      "text/plain": [
       "-5561618413352385706"
      ]
     },
     "execution_count": 66,
     "metadata": {},
     "output_type": "execute_result"
    }
   ],
   "source": [
    "# every object will have a unique int\n",
    "hash(\"this string too\")"
   ]
  },
  {
   "cell_type": "code",
   "execution_count": 67,
   "metadata": {},
   "outputs": [
    {
     "data": {
      "text/plain": [
       "True"
      ]
     },
     "execution_count": 67,
     "metadata": {},
     "output_type": "execute_result"
    }
   ],
   "source": [
    "# objects that are the same have the same hash value\n",
    "x = \"this string too\"\n",
    "y = \"this string too\"\n",
    "hash(x) == hash(y)"
   ]
  },
  {
   "cell_type": "markdown",
   "metadata": {},
   "source": [
    "### Searching hashed values is >5 *orders of magnitude* faster than searching a list\n",
    "Below we compare the time it takes to search for a single value (the integer 650,000) in a list versus dictionary. Because the dictionary key values are hashed the time to lookup the match is significantly faster. For this reason, no matter how big a dictionary gets the time it takes to find and return a (key, value) pair does not increase significantly. A list, on the other hand, is not efficient to search as it grows very large. \n",
    "\n",
    "\n",
    "Below we use the `%%timeit` magic command (this is a feature of jupyter, like the %%bash magic that allows us to execture bash code in jupyter cells) to calculate how long different commands take to run. "
   ]
  },
  {
   "cell_type": "code",
   "execution_count": 68,
   "metadata": {},
   "outputs": [],
   "source": [
    "## searching for a number in a list\n",
    "long_list_of_numbers = list(range(int(1e6)))"
   ]
  },
  {
   "cell_type": "code",
   "execution_count": 69,
   "metadata": {},
   "outputs": [
    {
     "name": "stdout",
     "output_type": "stream",
     "text": [
      "9.13 ms ± 394 µs per loop (mean ± std. dev. of 7 runs, 100 loops each)\n"
     ]
    }
   ],
   "source": [
    "%%timeit\n",
    "# computes boolean of whether some number is in the list\n",
    "650000 in long_list_of_numbers"
   ]
  },
  {
   "cell_type": "code",
   "execution_count": 70,
   "metadata": {},
   "outputs": [],
   "source": [
    "## dictionary keys \n",
    "big_dictionary = {i: random.randint(0, 5) for i in range(int(1e6))}"
   ]
  },
  {
   "cell_type": "code",
   "execution_count": 71,
   "metadata": {},
   "outputs": [
    {
     "name": "stdout",
     "output_type": "stream",
     "text": [
      "61.8 ns ± 0.73 ns per loop (mean ± std. dev. of 7 runs, 10000000 loops each)\n"
     ]
    }
   ],
   "source": [
    "%%timeit\n",
    "# computes boolean of whether some number is in the dict keys\n",
    "big_dictionary.get(6500000)"
   ]
  },
  {
   "cell_type": "markdown",
   "metadata": {},
   "source": [
    "### Creating dictionary objects\n",
    "You can create a dictionary object by using either the `dict()` function, or by enclosing dictionary data inside of curly brackets. Both examples are shown below. The second form is more commonly used so I will use that in all following examples. In the curly bracket format `keys` are matched with `values` by a colon, and `key/value` pairs are separated by commas. \n",
    "\n",
    "The keys of a dictionary can be made up of any mutable object (pretty much anything but a list). The values can be anything, including a list. In this example we create dictionaries mapping string to other strings. "
   ]
  },
  {
   "cell_type": "code",
   "execution_count": 72,
   "metadata": {},
   "outputs": [],
   "source": [
    "# make a dict from a list of key,val pairs\n",
    "d1 = dict((('key1', 'val1'), ('key2', 'val2')))\n",
    "\n",
    "# make a dict using the simpler curly bracket format\n",
    "d2 = {'key1': 'val1', 'key2': 'val2'}"
   ]
  },
  {
   "cell_type": "code",
   "execution_count": 73,
   "metadata": {},
   "outputs": [
    {
     "data": {
      "text/plain": [
       "{'key1': 'val1', 'key2': 'val2'}"
      ]
     },
     "execution_count": 73,
     "metadata": {},
     "output_type": "execute_result"
    }
   ],
   "source": [
    "# return the dictionary\n",
    "d2"
   ]
  },
  {
   "cell_type": "markdown",
   "metadata": {},
   "source": [
    "### Query a dictionary value\n",
    "To query a dictionary you provide a `key` to the dictionary as an index (in square brackets), and it will return the matching `value`. "
   ]
  },
  {
   "cell_type": "code",
   "execution_count": 74,
   "metadata": {},
   "outputs": [
    {
     "data": {
      "text/plain": [
       "'val1'"
      ]
     },
     "execution_count": 74,
     "metadata": {},
     "output_type": "execute_result"
    }
   ],
   "source": [
    "d2['key1']"
   ]
  },
  {
   "cell_type": "markdown",
   "metadata": {},
   "source": [
    "### Common use case\n",
    "A common way to work with dictionaries is to start with an empty dictionary at the beginning of an iteration (e.g., a for-loop) and to fill elements of the dictionary as you iterate over elements of the list. Dictionaries are useful for this because you can quickly query whether an element that you visit in the iteration is already in the dictionary or not. Let's consider an example where we use a dictionary as a counter to create a histogram. We'll store names as keys, and integers as values. \n",
    "\n",
    "In the example below we iterate over a list of random numbers and then apply a conditional if/else statement to either create a new key value pair in the dictionary, or to increment the value if the key is already in the dictionary. "
   ]
  },
  {
   "cell_type": "code",
   "execution_count": 75,
   "metadata": {},
   "outputs": [],
   "source": [
    "# sample sample 1000 random integers\n",
    "integer_list = [random.randint(0, 10) for i in range(1000)]\n",
    "\n",
    "# create an empty dictionary\n",
    "counter = {}\n",
    "\n",
    "# iterate over every number in the integer_list\n",
    "for item in integer_list:\n",
    "    \n",
    "    # if the number is not yet in the counter dict, add it as a key w/ value=1\n",
    "    if item not in counter:\n",
    "        counter[item] = 1\n",
    "    \n",
    "    # if the number is already in the counter dict then increment the value + 1 \n",
    "    else:\n",
    "        counter[item] += 1"
   ]
  },
  {
   "cell_type": "markdown",
   "metadata": {},
   "source": [
    "### The resulting `counter` dictionary\n",
    "The code above iterated over every element in a list of 1000 random values selected in the range 1-10, and counted how many times each occurred. In other words, we created a histogram. \n",
    "\n",
    "Below we can return the dictionary and see that is shows a number of keys and their mapped values. The results are not sorted and/or super easy to read. In the next cell, we can instead query the keys in the order we wish to see them in order to display the results more clearly and ordered. "
   ]
  },
  {
   "cell_type": "code",
   "execution_count": 76,
   "metadata": {},
   "outputs": [
    {
     "name": "stdout",
     "output_type": "stream",
     "text": [
      "{5: 106, 4: 85, 3: 93, 9: 86, 6: 78, 7: 76, 1: 87, 0: 98, 10: 104, 8: 94, 2: 93}\n"
     ]
    }
   ],
   "source": [
    "# return the dictionary results\n",
    "print(counter)"
   ]
  },
  {
   "cell_type": "code",
   "execution_count": 77,
   "metadata": {},
   "outputs": [
    {
     "name": "stdout",
     "output_type": "stream",
     "text": [
      "0 98\n",
      "1 87\n",
      "2 93\n",
      "3 93\n",
      "4 85\n",
      "5 106\n",
      "6 78\n",
      "7 76\n",
      "8 94\n",
      "9 86\n"
     ]
    }
   ],
   "source": [
    "# return dictionary results in a queried order\n",
    "\n",
    "# iterate over the keys in the dictionary (integers 1-10)\n",
    "for i in range(10):\n",
    "    \n",
    "    # print the key and value\n",
    "    print(i, counter[i])"
   ]
  },
  {
   "cell_type": "code",
   "execution_count": 78,
   "metadata": {},
   "outputs": [
    {
     "name": "stdout",
     "output_type": "stream",
     "text": [
      "0 98\n",
      "1 87\n",
      "2 93\n",
      "3 93\n",
      "4 85\n",
      "5 106\n",
      "6 78\n",
      "7 76\n",
      "8 94\n",
      "9 86\n",
      "10 104\n"
     ]
    }
   ],
   "source": [
    "# another way to do the same thing\n",
    "\n",
    "# iterate over the keys which we know are 1-10\n",
    "for key in sorted(counter.keys()):\n",
    "    \n",
    "    # print the key and value\n",
    "    print(key, counter[key])"
   ]
  },
  {
   "cell_type": "markdown",
   "metadata": {},
   "source": [
    "### Interpreting code"
   ]
  },
  {
   "cell_type": "markdown",
   "metadata": {},
   "source": [
    "<div class=\"alert alert-success\">\n",
    "    <b>Action [1]:</b> \n",
    "        In a code cell below describe what is happening on each line of the code by writing a comment above each line of code where I have written \"# comment:\". If you get stuck, try asking for help in the chatroom.  \n",
    "</div>"
   ]
  },
  {
   "cell_type": "code",
   "execution_count": 79,
   "metadata": {},
   "outputs": [],
   "source": [
    "# comment: importing the random module so we can use it\n",
    "import random\n",
    "\n",
    "# comment: sample 1000 randomly chosen elements (chars) from the string \"Columbia University\"\n",
    "integer_list = [random.choice(\"Columbia University\") for i in range(1000)]\n",
    "\n",
    "# comment: create a dictionary with keys lower and uppercase and set initial values to 0\n",
    "counter = {'lowercase': 0, 'uppercase': 0}\n",
    "\n",
    "# comment: for each randomly selected char we sampled (1000 total samples) from \"Columbia University\"\n",
    "for item in integer_list:\n",
    "    \n",
    "    # comment: if we sampled a lowercase letter\n",
    "    if item.islower():\n",
    "        # comment: increase the number of lowercase letters by 1\n",
    "        counter['lowercase'] += 1\n",
    "\n",
    "    # comment: if we did not sample a lowercase letter\n",
    "    else:\n",
    "        # comment: increase the number of uppercase letters by 1\n",
    "        counter['uppercase'] += 1"
   ]
  },
  {
   "cell_type": "code",
   "execution_count": 80,
   "metadata": {},
   "outputs": [
    {
     "name": "stdout",
     "output_type": "stream",
     "text": [
      "{'lowercase': 833, 'uppercase': 167}\n"
     ]
    }
   ],
   "source": [
    "print(counter)"
   ]
  },
  {
   "cell_type": "markdown",
   "metadata": {},
   "source": [
    "<div class=\"alert alert-info\">\n",
    "    <b>A side note on using tab-completion in jupyter.</b> When you write code to assign an object to a variable name inside of a code block, but you have not executed that code yet, then the object has not yet been assigned to the variable name. This will prevent tab-completion from being able to show you attributes of the object yet. If you find tab-completion not working for you, try to execute the cell and type the object that you want to explore in the next cell to explore it with tab-completion. \n",
    "    </div>"
   ]
  },
  {
   "cell_type": "markdown",
   "metadata": {},
   "source": [
    "## Dictionary attributes/features\n",
    "\n",
    "Like other objects in Python, dictionaries have a number of functions and attributes associated with them that you can access by placing a dot after the dictionary name, and typing [tab]. Let's create an example below of a dictionary that stores a list of lists as values. Below we explain the `.keys()`, `.items()`, and `.values()` functions of dictionaries which can be used to return its data. "
   ]
  },
  {
   "cell_type": "code",
   "execution_count": 81,
   "metadata": {},
   "outputs": [],
   "source": [
    "# lists of names and data\n",
    "individuals = ['sample-1', 'sample-2', 'sample-3', 'sample-4']\n",
    "trait1 = [56, 76, 22, 21]\n",
    "trait2 = ['green', 'green', 'red', 'red']\n",
    "trait3 = ['angry', 'docile', 'angry', 'docile']\n",
    "\n",
    "# create a dictionary mapping multiple traits to each species\n",
    "datadict = {}\n",
    "for i in range(4):\n",
    "    datadict[individuals[i]] = [trait1[i], trait2[i], trait3[i]]"
   ]
  },
  {
   "cell_type": "code",
   "execution_count": 82,
   "metadata": {},
   "outputs": [
    {
     "data": {
      "text/plain": [
       "{'sample-1': [56, 'green', 'angry'],\n",
       " 'sample-2': [76, 'green', 'docile'],\n",
       " 'sample-3': [22, 'red', 'angry'],\n",
       " 'sample-4': [21, 'red', 'docile']}"
      ]
     },
     "execution_count": 82,
     "metadata": {},
     "output_type": "execute_result"
    }
   ],
   "source": [
    "# show the dictionary data\n",
    "datadict"
   ]
  },
  {
   "cell_type": "code",
   "execution_count": 83,
   "metadata": {},
   "outputs": [
    {
     "name": "stdout",
     "output_type": "stream",
     "text": [
      "('sample-1', [56, 'green', 'angry'])\n",
      "('sample-2', [76, 'green', 'docile'])\n",
      "('sample-3', [22, 'red', 'angry'])\n",
      "('sample-4', [21, 'red', 'docile'])\n"
     ]
    }
   ],
   "source": [
    "# .items() returns key,val pairs as tuples\n",
    "for item in datadict.items():\n",
    "    print(item)"
   ]
  },
  {
   "cell_type": "code",
   "execution_count": 84,
   "metadata": {},
   "outputs": [
    {
     "name": "stdout",
     "output_type": "stream",
     "text": [
      "sample-1\n",
      "sample-2\n",
      "sample-3\n",
      "sample-4\n"
     ]
    }
   ],
   "source": [
    "# .keys() returns just the keys\n",
    "for key in datadict.keys():\n",
    "    print(key)"
   ]
  },
  {
   "cell_type": "code",
   "execution_count": 85,
   "metadata": {},
   "outputs": [
    {
     "name": "stdout",
     "output_type": "stream",
     "text": [
      "[56, 'green', 'angry']\n",
      "[76, 'green', 'docile']\n",
      "[22, 'red', 'angry']\n",
      "[21, 'red', 'docile']\n"
     ]
    }
   ],
   "source": [
    "# .values returns just the values\n",
    "for val in datadict.values():\n",
    "    print(val)"
   ]
  },
  {
   "cell_type": "markdown",
   "metadata": {},
   "source": [
    "### list comprehension\n",
    "\n",
    "Just as you can use \"list-comprehension\" with lists, you can create dictionaries using \"dict comprehension\". This is simply a more efficient way to write code sometimes as opposed to writing a for-loop. The format can be thought of as: [`append this thing` as we iterate through `each thing` from a `container of things`]. "
   ]
  },
  {
   "cell_type": "code",
   "execution_count": 86,
   "metadata": {},
   "outputs": [
    {
     "data": {
      "text/plain": [
       "[0, 1, 2, 3, 4, 5, 6, 7, 8, 9]"
      ]
     },
     "execution_count": 86,
     "metadata": {},
     "output_type": "execute_result"
    }
   ],
   "source": [
    "# list-comprehension example for list objects\n",
    "newlist = [i for i in range(10)]\n",
    "newlist"
   ]
  },
  {
   "cell_type": "code",
   "execution_count": 87,
   "metadata": {},
   "outputs": [
    {
     "data": {
      "text/plain": [
       "{'a': 1, 'b': 2, 'c': 3}"
      ]
     },
     "execution_count": 87,
     "metadata": {},
     "output_type": "execute_result"
    }
   ],
   "source": [
    "# list comprehension for a dictionary from a list of lists\n",
    "ddict = {i: j for (i, j) in [['a', 1], ['b', 2], ['c', 3]]}\n",
    "ddict"
   ]
  },
  {
   "cell_type": "code",
   "execution_count": 88,
   "metadata": {},
   "outputs": [
    {
     "data": {
      "text/plain": [
       "{'a': 1, 'b': 2, 'c': 3}"
      ]
     },
     "execution_count": 88,
     "metadata": {},
     "output_type": "execute_result"
    }
   ],
   "source": [
    "# another example using the Python function 'zip' which iterates over 2 or more iterables.\n",
    "keys = ['a', 'b', 'c']\n",
    "vals = [1, 2, 3]\n",
    "{i: j for (i, j) in zip(keys, vals)}"
   ]
  },
  {
   "cell_type": "markdown",
   "metadata": {},
   "source": [
    "### Assessment"
   ]
  },
  {
   "cell_type": "markdown",
   "metadata": {},
   "source": [
    "<div class=\"alert alert-success\">\n",
    "    <b>Action [2]:</b> \n",
    "    Create a dictionary where the keys are letters of the alphabet and the values record the number of occurrences of each letter in the string object below, as integers. (In other words, create a histogram.)\n",
    "</div>"
   ]
  },
  {
   "cell_type": "code",
   "execution_count": 89,
   "metadata": {},
   "outputs": [
    {
     "name": "stdout",
     "output_type": "stream",
     "text": [
      "{'u': 34, 'w': 33, 'j': 28, 'l': 29, 'b': 50, 't': 46, 'o': 34, 'q': 30, 'i': 40, 'e': 38, 'z': 38, 'k': 37, 'r': 53, 'm': 27, 'v': 42, 's': 47, 'y': 46, 'p': 32, 'd': 41, 'c': 34, 'a': 35, 'n': 38, 'x': 42, 'h': 47, 'f': 42, 'g': 37}\n",
      "----------\n",
      "k : is the element we will check\n"
     ]
    }
   ],
   "source": [
    "# module with variable for all letters in alphabet\n",
    "import string\n",
    "\n",
    "# random string of text\n",
    "letters = random.choices(string.ascii_lowercase, k=1000)\n",
    "\n",
    "# create your dictionary here.\n",
    "d = {}\n",
    "for item in letters:\n",
    "    \n",
    "    if item not in d:\n",
    "        d[item] = 1\n",
    "        \n",
    "    else:\n",
    "        d[item] += 1\n",
    "print(d)\n",
    "print(\"----------\")\n",
    "\n",
    "#for q below\n",
    "#random element from dictionary\n",
    "r = random.choice(list(d.keys()))\n",
    "print(r, \": is the element we will check\")"
   ]
  },
  {
   "cell_type": "markdown",
   "metadata": {},
   "source": [
    "<div class=\"alert alert-success\">\n",
    "    <b>Action [3]:</b> \n",
    "    In the cell below calculate the time it takes to retrieve one element from this dictionary. \n",
    "</div>"
   ]
  },
  {
   "cell_type": "code",
   "execution_count": 90,
   "metadata": {},
   "outputs": [
    {
     "name": "stdout",
     "output_type": "stream",
     "text": [
      "69 ns ± 0.61 ns per loop (mean ± std. dev. of 7 runs, 10000000 loops each)\n"
     ]
    }
   ],
   "source": [
    "%%timeit\n",
    "\n",
    "d.get(r)"
   ]
  }
 ],
 "metadata": {
  "kernelspec": {
   "display_name": "Python 3",
   "language": "python",
   "name": "python3"
  },
  "language_info": {
   "codemirror_mode": {
    "name": "ipython",
    "version": 3
   },
   "file_extension": ".py",
   "mimetype": "text/x-python",
   "name": "python",
   "nbconvert_exporter": "python",
   "pygments_lexer": "ipython3",
   "version": "3.8.5"
  }
 },
 "nbformat": 4,
 "nbformat_minor": 2
}
